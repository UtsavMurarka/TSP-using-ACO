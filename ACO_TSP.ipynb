{
  "nbformat": 4,
  "nbformat_minor": 0,
  "metadata": {
    "colab": {
      "name": "ACO-TSP.ipynb",
      "version": "0.3.2",
      "provenance": [],
      "collapsed_sections": []
    },
    "kernelspec": {
      "name": "python3",
      "display_name": "Python 3"
    },
    "accelerator": "GPU"
  },
  "cells": [
    {
      "cell_type": "code",
      "metadata": {
        "id": "FcO_QaBLOIlx",
        "colab_type": "code",
        "outputId": "8cbfac49-405d-4a42-a1d3-d1ada04e1186",
        "colab": {
          "base_uri": "https://localhost:8080/",
          "height": 34
        }
      },
      "source": [
        "import tensorflow as tf\n",
        "tf.test.gpu_device_name()"
      ],
      "execution_count": 17,
      "outputs": [
        {
          "output_type": "execute_result",
          "data": {
            "text/plain": [
              "'/device:GPU:0'"
            ]
          },
          "metadata": {
            "tags": []
          },
          "execution_count": 17
        }
      ]
    },
    {
      "cell_type": "code",
      "metadata": {
        "id": "u7aLgZiOJkHo",
        "colab_type": "code",
        "outputId": "859c9892-1dcd-4cf9-bf00-48cf916028dd",
        "colab": {
          "base_uri": "https://localhost:8080/",
          "height": 286
        }
      },
      "source": [
        "!pip3 install ACO-Pants\n",
        "import pants\n",
        "import math\n",
        "import random\n",
        "import numpy as np\n",
        "from itertools import permutations\n",
        "import matplotlib.pyplot as plt\n",
        "\n",
        "\n",
        "nodes = []\n",
        "n=7 #no. of cities\n",
        "for i in range(n):\n",
        "  x = random.uniform(-10, 10)\n",
        "  y = random.uniform(-10, 10)\n",
        "  nodes.append((x, y))\n",
        "  \n",
        "testList = nodes\n",
        "testList2 = [(elem1, elem2) for elem1, elem2 in testList]\n",
        "plt.scatter(*zip(*testList2))\n",
        "plt.show()"
      ],
      "execution_count": 22,
      "outputs": [
        {
          "output_type": "stream",
          "text": [
            "Requirement already satisfied: ACO-Pants in /usr/local/lib/python3.6/dist-packages (0.5.2)\n"
          ],
          "name": "stdout"
        },
        {
          "output_type": "display_data",
          "data": {
            "image/png": "[encoded data removed]",
            "text/plain": [
              "<Figure size 432x288 with 1 Axes>"
            ]
          },
          "metadata": {
            "tags": []
          }
        }
      ]
    },
    {
      "cell_type": "markdown",
      "metadata": {
        "id": "drUpJDNYK1tv",
        "colab_type": "text"
      },
      "source": [
        "Brute Force Solution"
      ]
    },
    {
      "cell_type": "code",
      "metadata": {
        "id": "cEKE59IeKZRY",
        "colab_type": "code",
        "colab": {}
      },
      "source": [
        "def euclidean(a, b):\n",
        "    return math.sqrt(   (a[1] - b[1])**2 + (a[0] - b[0])**2  )"
      ],
      "execution_count": 0,
      "outputs": []
    },
    {
      "cell_type": "code",
      "metadata": {
        "id": "vAh214iiK4mq",
        "colab_type": "code",
        "outputId": "1f96fff2-71a1-4cf1-cd07-10c8eec7d546",
        "colab": {
          "base_uri": "https://localhost:8080/",
          "height": 357
        }
      },
      "source": [
        "%%time\n",
        "perm = permutations(nodes)\n",
        "b = list(perm)\n",
        "\n",
        "min = 99999\n",
        "short = 0\n",
        "for i in range(math.factorial(n)):\n",
        "    dist=0\n",
        "    for j in range(n):\n",
        "        dist = dist + euclidean(b[i][j%n], b[i][(j+1)%n])\n",
        "    if (dist < min):\n",
        "        min = dist\n",
        "        short = i\n",
        "print(min)\n",
        "print(b[short])\n",
        "\n",
        "bf_path=[]\n",
        "for i in range(n):\n",
        "    bf_path.append(b[short][i])\n",
        "bf_path.append(b[short][0])\n",
        "\n",
        "\n",
        "testList = bf_path\n",
        "testList2 = [(elem1, elem2) for elem1, elem2 in testList]\n",
        "plt.plot(*zip(*testList2), 'r', lw=1)\n",
        "plt.scatter(*zip(*testList2))\n",
        "plt.show()"
      ],
      "execution_count": 24,
      "outputs": [
        {
          "output_type": "stream",
          "text": [
            "53.14815509324472\n",
            "((6.200637354780195, -0.022037797034244022), (9.669683824490043, -6.7468702017967015), (7.712676202244971, -7.946663802403675), (-4.787981072923202, -9.468760149394553), (-7.6300792560987984, 3.954418561614137), (-0.3111717107277574, -0.657912264408191), (2.2118083220943756, -2.9216083310089296))\n"
          ],
          "name": "stdout"
        },
        {
          "output_type": "display_data",
          "data": {
            "image/png": "[encoded data removed]",
            "text/plain": [
              "<Figure size 432x288 with 1 Axes>"
            ]
          },
          "metadata": {
            "tags": []
          }
        },
        {
          "output_type": "stream",
          "text": [
            "CPU times: user 303 ms, sys: 154 ms, total: 457 ms\n",
            "Wall time: 289 ms\n"
          ],
          "name": "stdout"
        }
      ]
    },
    {
      "cell_type": "markdown",
      "metadata": {
        "id": "9SzKyTPBLAKP",
        "colab_type": "text"
      },
      "source": [
        "Ant Colony Optimization"
      ]
    },
    {
      "cell_type": "code",
      "metadata": {
        "id": "xUD_FIcAK7FN",
        "colab_type": "code",
        "outputId": "179b85a9-6ed1-4e6d-bd32-fb5a8c0563f4",
        "colab": {
          "base_uri": "https://localhost:8080/",
          "height": 357
        }
      },
      "source": [
        "%%time\n",
        "world = pants.World(nodes, euclidean)\n",
        "solver = pants.Solver()\n",
        "solution = solver.solve(world)\n",
        "\n",
        "path=[]\n",
        "for i in range(n):\n",
        "    path.append(solution.tour[i])\n",
        "path.append(solution.tour[0])\n",
        "\n",
        "print(solution.distance)\n",
        "print(path)\n",
        "\n",
        "testList = path\n",
        "testList2 = [(elem1, elem2) for elem1, elem2 in testList]\n",
        "plt.plot(*zip(*testList2), 'r', lw=1)\n",
        "plt.scatter(*zip(*testList2))\n",
        "plt.show()\n"
      ],
      "execution_count": 25,
      "outputs": [
        {
          "output_type": "stream",
          "text": [
            "53.14815509324472\n",
            "[(-7.6300792560987984, 3.954418561614137), (-0.3111717107277574, -0.657912264408191), (2.2118083220943756, -2.9216083310089296), (6.200637354780195, -0.022037797034244022), (9.669683824490043, -6.7468702017967015), (7.712676202244971, -7.946663802403675), (-4.787981072923202, -9.468760149394553), (-7.6300792560987984, 3.954418561614137)]\n"
          ],
          "name": "stdout"
        },
        {
          "output_type": "display_data",
          "data": {
            "image/png": "[encoded data removed]",
            "text/plain": [
              "<Figure size 432x288 with 1 Axes>"
            ]
          },
          "metadata": {
            "tags": []
          }
        },
        {
          "output_type": "stream",
          "text": [
            "CPU times: user 320 ms, sys: 156 ms, total: 476 ms\n",
            "Wall time: 297 ms\n"
          ],
          "name": "stdout"
        }
      ]
    },
    {
      "cell_type": "code",
      "metadata": {
        "id": "8LCXHCpcLGly",
        "colab_type": "code",
        "colab": {}
      },
      "source": [
        ""
      ],
      "execution_count": 0,
      "outputs": []
    },
    {
      "cell_type": "markdown",
      "metadata": {
        "id": "iGyB84bjooDd",
        "colab_type": "text"
      },
      "source": [
        "Comparison"
      ]
    },
    {
      "cell_type": "code",
      "metadata": {
        "id": "acbHSVc6op7q",
        "colab_type": "code",
        "outputId": "154d2280-067a-4a1f-de68-5dbe3d4efed6",
        "colab": {
          "base_uri": "https://localhost:8080/",
          "height": 71
        }
      },
      "source": [
        "import time\n",
        "\n",
        "bf_arr=[]\n",
        "bf_arr.extend([0,0,0])\n",
        "aco_arr=[]\n",
        "aco_arr.extend([0,0,0])\n",
        "\n",
        "for n in range(3,10):\n",
        "  \n",
        "  nodes = []\n",
        "  for i in range(n):\n",
        "    x = random.uniform(-10, 10)\n",
        "    y = random.uniform(-10, 10)\n",
        "    nodes.append((x, y))\n",
        "\n",
        "  testList = nodes\n",
        "\n",
        "  \n",
        "  t1 = time.time()\n",
        "  perm = permutations(nodes)\n",
        "  b = list(perm)\n",
        "\n",
        "  min = 99999\n",
        "  short = 0\n",
        "  for i in range(math.factorial(n)):\n",
        "      dist=0\n",
        "      for j in range(n):\n",
        "          dist = dist + euclidean(b[i][j%n], b[i][(j+1)%n])\n",
        "      if (dist < min):\n",
        "          min = dist\n",
        "          short = i\n",
        "\n",
        "  t2=time.time()\n",
        "  r1 = t2-t1\n",
        "  bf_arr.append(r1)\n",
        "  \n",
        "  \n",
        "  t3 = time.time()\n",
        "  world = pants.World(nodes, euclidean)\n",
        "  solver = pants.Solver()\n",
        "  solution = solver.solve(world)\n",
        "\n",
        "  path=[]\n",
        "  for i in range(n):\n",
        "     path.append(solution.tour[i])\n",
        "  path.append(solution.tour[0])\n",
        "  t4 = time.time()\n",
        "  r2 = t4-t3\n",
        "  aco_arr.append(r2)\n",
        "  \n",
        "print(aco_arr)\n",
        "print(bf_arr)\n",
        "\n",
        "\n"
      ],
      "execution_count": 32,
      "outputs": [
        {
          "output_type": "stream",
          "text": [
            "[0, 0, 0, 0.019097566604614258, 0.030675649642944336, 0.039133310317993164, 0.05217242240905762, 0.06133270263671875, 0.0725550651550293, 0.08648896217346191]\n",
            "[0, 0, 0, 0.03492617607116699, 0.0001316070556640625, 0.0005211830139160156, 0.0038275718688964844, 0.032918691635131836, 0.2898433208465576, 2.9842190742492676]\n"
          ],
          "name": "stdout"
        }
      ]
    },
    {
      "cell_type": "code",
      "metadata": {
        "id": "XUrbuLQ9rwZV",
        "colab_type": "code",
        "outputId": "d2253be5-fa70-4133-c0bd-c159a586a24c",
        "colab": {
          "base_uri": "https://localhost:8080/",
          "height": 283
        }
      },
      "source": [
        "plt.plot(aco_arr, 'r--',  bf_arr, 'b--')\n",
        "plt.xlabel(\"No. of cities\")\n",
        "plt.ylabel(\"runtime in seconds\")\n",
        "plt.show()"
      ],
      "execution_count": 33,
      "outputs": [
        {
          "output_type": "display_data",
          "data": {
            "image/png": "[encoded data removed]",
            "text/plain": [
              "<Figure size 432x288 with 1 Axes>"
            ]
          },
          "metadata": {
            "tags": []
          }
        }
      ]
    },
    {
      "cell_type": "code",
      "metadata": {
        "id": "RgtUwF9GvhhI",
        "colab_type": "code",
        "colab": {}
      },
      "source": [
        ""
      ],
      "execution_count": 0,
      "outputs": []
    }
  ]
}